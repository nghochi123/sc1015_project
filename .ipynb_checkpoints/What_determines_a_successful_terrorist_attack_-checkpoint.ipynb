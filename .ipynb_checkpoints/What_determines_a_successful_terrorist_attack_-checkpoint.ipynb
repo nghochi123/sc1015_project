{
  "cells": [
    {
      "cell_type": "markdown",
      "metadata": {},
      "source": [
        "# What determines a successful terrorist attack?\n",
        "Google Collab [1/4] - https://colab.research.google.com/drive/1A8vhdfk36fanwN5P1x5cIzdJ7PDr__GJ#scrollTo=BsOBebqdT6Ts"
      ]
    },
    {
      "cell_type": "markdown",
      "metadata": {
        "id": "_UBofCNpT6Th",
        "jp-MarkdownHeadingCollapsed": true,
        "tags": []
      },
      "source": [
        "## Sample Collection"
      ]
    },
    {
      "cell_type": "code",
      "execution_count": null,
      "metadata": {
        "id": "G-tDOyuST6Tj",
        "tags": []
      },
      "outputs": [],
      "source": [
        "# Importing necessary libraries\n",
        "import pandas as pd\n",
        "import numpy as np\n",
        "import pickle\n",
        "from sklearn import metrics\n",
        "from sklearn.linear_model import LogisticRegression\n",
        "from sklearn.metrics import confusion_matrix, classification_report\n",
        "from sklearn.neighbors import KNeighborsClassifier as KNN\n",
        "from sklearn.svm import LinearSVC\n",
        "\n",
        "# Visualisation libraries\n",
        "import seaborn as sns\n",
        "import matplotlib.pyplot as plt\n",
        "import plotly.express as px\n",
        "import plotly.graph_objects as go\n",
        "\n",
        "# Map stuff\n",
        "import folium\n",
        "from folium.plugins import MarkerCluster\n",
        "\n",
        "# Misc\n",
        "from collections import Counter\n",
        "sns.set()\n",
        "%matplotlib inline"
      ]
    },
    {
      "cell_type": "code",
      "execution_count": null,
      "metadata": {
        "colab": {
          "base_uri": "https://localhost:8080/"
        },
        "id": "yqCYKt2AVjsd",
        "outputId": "1c0cb4a5-0bee-4f73-8a28-88adb17f3ba3"
      },
      "outputs": [
        {
          "name": "stdout",
          "output_type": "stream",
          "text": [
            "Drive already mounted at /content/drive; to attempt to forcibly remount, call drive.mount(\"/content/drive\", force_remount=True).\n"
          ]
        }
      ],
      "source": [
        "from google.colab import drive\n",
        "drive.mount('/content/drive')"
      ]
    },
    {
      "cell_type": "code",
      "execution_count": null,
      "metadata": {
        "colab": {
          "base_uri": "https://localhost:8080/"
        },
        "id": "ZgGEdd7aT6Tk",
        "outputId": "0e881364-1996-4ad6-fe69-fcc12a1b9854"
      },
      "outputs": [
        {
          "name": "stderr",
          "output_type": "stream",
          "text": [
            "/usr/local/lib/python3.7/dist-packages/IPython/core/interactiveshell.py:2882: DtypeWarning: Columns (4,6,31,33,61,62,63,76,79,90,92,94,96,114,115,121) have mixed types.Specify dtype option on import or set low_memory=False.\n",
            "  exec(code_obj, self.user_global_ns, self.user_ns)\n"
          ]
        }
      ],
      "source": [
        "# GTD Dataset from 1970 - 2017\n",
        "df = pd.read_csv(\"/content/drive/MyDrive/NTU/Sem 1.2/SC1015/SC1015 Mini-Project/globalterrorismdb_0718dist.csv\", encoding = \"ISO-8859-1\")"
      ]
    },
    {
      "cell_type": "code",
      "execution_count": null,
      "metadata": {
        "id": "zxILnNx4T6Tl"
      },
      "outputs": [],
      "source": [
        "# GTD Dataset 1993\n",
        "dftemp = pd.read_csv(\"/content/drive/MyDrive/NTU/Sem 1.2/SC1015/SC1015 Mini-Project/gtd1993_0221dist.csv\")\n",
        "df = pd.concat([df,dftemp])"
      ]
    },
    {
      "cell_type": "code",
      "execution_count": null,
      "metadata": {
        "id": "rVm182wVT6Tl"
      },
      "outputs": [],
      "source": [
        "pd.set_option('display.max_columns', None)  # or 1000\n",
        "pd.set_option('display.max_rows', None)  # or 1000\n",
        "pd.set_option('display.max_colwidth', None)  # or 199\n",
        "df = df.rename(columns={'iyear': \"Year\", 'imonth': \"Month\", 'iday': \"Day\"})\n",
        "df = df[df['Day'] != 0]\n",
        "df = df[df['Month'] != 0]\n",
        "df['Timestamp'] = pd.to_datetime(df[['Year', 'Month', 'Day']])\n",
        "df['Timestamp'] = df['Timestamp'].astype(str) + ' 00:00'\n",
        "df['Timestamp'] = pd.to_datetime(df['Timestamp']).values.astype(int) / 10**9"
      ]
    },
    {
      "cell_type": "markdown",
      "metadata": {
        "id": "VFnUEjNsT6Tm",
        "jp-MarkdownHeadingCollapsed": true,
        "tags": []
      },
      "source": [
        "## Data preparation\n",
        "\n",
        "\n",
        "The columns we need are:\n",
        "\n",
        "- Date\n",
        "- Country data + location\n",
        "- Time\n",
        "- Attack type\n",
        "- Target\n",
        "- Number of people killed\n",
        "- Number of people wounded\n",
        "- Group name\n",
        "- Number of perpertrators\n",
        "- Motive\n",
        "- Success rate\n",
        "- Target victim information\n",
        "- Perpetrator background\n",
        "- Suicide\n",
        "- Success\n",
        "- Others...\n",
        "\n",
        "For the columns with multiple categories, (e.g. attack type 1 and 2, target type 1 and 2) we will only be analysing the main type. (labelled 1)\n",
        "\n",
        "There are some variables with multiple categorizations (different encoding schemes) but consisting the same data, such as 'country' and 'country_txt'. We have only chosen one of them to use. "
      ]
    },
    {
      "cell_type": "markdown",
      "metadata": {
        "id": "dZ34nJ2RT6Tm",
        "jp-MarkdownHeadingCollapsed": true,
        "tags": []
      },
      "source": [
        "### Dealing with NULL values"
      ]
    },
    {
      "cell_type": "code",
      "execution_count": null,
      "metadata": {
        "id": "_0_wrLKnT6Tn",
        "tags": []
      },
      "outputs": [],
      "source": [
        "df1 = df[[\n",
        "    'Year',\n",
        "    'Month',\n",
        "    'Day',\n",
        "    'Timestamp',\n",
        "    'city',\n",
        "    'country_txt',\n",
        "    'region_txt',\n",
        "    'attacktype1_txt',\n",
        "    'target1',\n",
        "    'nkill',\n",
        "    'nwound',\n",
        "    'gname',\n",
        "    'nperps',\n",
        "    'targtype1_txt',\n",
        "    'targsubtype1_txt',\n",
        "    'natlty1_txt',\n",
        "    'weaptype1_txt',\n",
        "    'motive',\n",
        "    'suicide',\n",
        "    'success',\n",
        "    'nkillter',\n",
        "    'nwoundte',\n",
        "    'ishostkid',\n",
        "    'extended',\n",
        "    'crit1',\n",
        "    'crit2',\n",
        "    'crit3'\n",
        "]]"
      ]
    },
    {
      "cell_type": "code",
      "execution_count": null,
      "metadata": {
        "colab": {
          "base_uri": "https://localhost:8080/"
        },
        "id": "jNrd8YB3T6Tn",
        "outputId": "c9de6c77-a6f9-4175-9d88-e117d5ecafb5"
      },
      "outputs": [
        {
          "data": {
            "text/plain": [
              "Unknown                                             82655\n",
              "Taliban                                              7469\n",
              "Islamic State of Iraq and the Levant (ISIL)          5613\n",
              "Shining Path (SL)                                    4566\n",
              "Farabundo Marti National Liberation Front (FMLN)     3343\n",
              "Name: gname, dtype: int64"
            ]
          },
          "execution_count": 23,
          "metadata": {},
          "output_type": "execute_result"
        }
      ],
      "source": [
        "df1['gname'].value_counts()[:5]"
      ]
    },
    {
      "cell_type": "code",
      "execution_count": null,
      "metadata": {
        "colab": {
          "base_uri": "https://localhost:8080/"
        },
        "id": "x_NkhlMcT6To",
        "outputId": "b2fc8394-1f6d-4034-9122-9fe1c2c46224"
      },
      "outputs": [
        {
          "data": {
            "text/plain": [
              "Explosives    92460\n",
              "Firearms      58560\n",
              "Unknown       14948\n",
              "Incendiary    11133\n",
              "Melee          3649\n",
              "Name: weaptype1_txt, dtype: int64"
            ]
          },
          "execution_count": 24,
          "metadata": {},
          "output_type": "execute_result"
        }
      ],
      "source": [
        "df1['weaptype1_txt'].value_counts()[:5]"
      ]
    },
    {
      "cell_type": "code",
      "execution_count": null,
      "metadata": {
        "id": "eQL56f7eT6To"
      },
      "outputs": [],
      "source": [
        "df1 = df[[\n",
        "    'Year',\n",
        "    'Month',\n",
        "    'Day',\n",
        "    'Timestamp',\n",
        "    # 'city',\n",
        "    'country_txt',\n",
        "    'region_txt',\n",
        "    'attacktype1_txt',\n",
        "    # 'target1',\n",
        "    'nkill',\n",
        "    'nwound',\n",
        "    # 'gname',\n",
        "    # 'nperps',\n",
        "    'targtype1_txt',\n",
        "    'targsubtype1_txt',\n",
        "    'natlty1_txt',\n",
        "    'weaptype1_txt',\n",
        "    # 'motive',\n",
        "    'suicide',\n",
        "    'success',\n",
        "    # 'nkillter',\n",
        "    # 'nwoundte',\n",
        "    'ishostkid',\n",
        "    'extended',\n",
        "    'crit1',\n",
        "    'crit2',\n",
        "    'crit3'\n",
        "]]"
      ]
    },
    {
      "cell_type": "code",
      "execution_count": null,
      "metadata": {
        "id": "gqnLH5z7T6To"
      },
      "outputs": [],
      "source": [
        "df1 = df1[df1['ishostkid'] != -9]"
      ]
    },
    {
      "cell_type": "code",
      "execution_count": null,
      "metadata": {
        "colab": {
          "base_uri": "https://localhost:8080/"
        },
        "id": "w079GXNzT6To",
        "outputId": "bc4e9df0-d02c-43d1-f0d3-ec7151ad2b5c"
      },
      "outputs": [
        {
          "data": {
            "text/plain": [
              "(181225, 20)"
            ]
          },
          "execution_count": 27,
          "metadata": {},
          "output_type": "execute_result"
        }
      ],
      "source": [
        "df1.shape"
      ]
    },
    {
      "cell_type": "code",
      "execution_count": null,
      "metadata": {
        "id": "EvFiFBEKT6Tp"
      },
      "outputs": [],
      "source": [
        "df1.dropna(axis=0, inplace=True)"
      ]
    },
    {
      "cell_type": "code",
      "execution_count": null,
      "metadata": {
        "id": "3wUfVmetT6Tp"
      },
      "outputs": [],
      "source": [
        "df1 = df1[df1['weaptype1_txt'] != 'Unknown']"
      ]
    },
    {
      "cell_type": "code",
      "execution_count": null,
      "metadata": {
        "id": "39GwD94hT6Tp"
      },
      "outputs": [],
      "source": [
        "df_save = df1"
      ]
    },
    {
      "cell_type": "markdown",
      "metadata": {
        "id": "JfY5XH4UT6Tp",
        "jp-MarkdownHeadingCollapsed": true,
        "tags": []
      },
      "source": [
        "## Feature Selection with Random Forest"
      ]
    },
    {
      "cell_type": "code",
      "execution_count": null,
      "metadata": {
        "id": "9EeLwoy4T6Tp"
      },
      "outputs": [],
      "source": [
        "from sklearn.ensemble import RandomForestClassifier\n",
        "from sklearn.feature_selection import SelectFromModel\n",
        "from sklearn.model_selection import train_test_split"
      ]
    },
    {
      "cell_type": "code",
      "execution_count": null,
      "metadata": {
        "id": "GCeI0Sl0T6Tp"
      },
      "outputs": [],
      "source": [
        "X = df1.drop('success', axis=1)\n",
        "y = df1['success']"
      ]
    },
    {
      "cell_type": "markdown",
      "metadata": {
        "id": "xJqU3nJmT6Tq"
      },
      "source": [
        "### One-Hot encoding Categorical Data\n",
        "\n",
        "From the following, we can see that there are many variables with the Dtype of 'object'. We must therefore one-hot encode these variables such that we are able to use them with the random forest.\n",
        "\n",
        "Some are labelled as Dtype int but are categorical (Year, Month, Day) while others are already in one-hot encoded format (extended, ishostkid, crit1) - so we have to take note of this."
      ]
    },
    {
      "cell_type": "code",
      "execution_count": null,
      "metadata": {
        "id": "BPWNUa8IT6Tq",
        "tags": []
      },
      "outputs": [],
      "source": [
        "df1 = df1.rename(columns={\"country_txt\": \"country\", \n",
        "                    \"region_txt\": \"region\", \n",
        "                    \"attacktype1_txt\": \"attacktype1\", \n",
        "                    \"targtype1_txt\": \"targtype1\",\n",
        "                    \"weaptype1_txt\": \"weaptype1\",\n",
        "                    \"natlty1_txt\": \"natlty1\",\n",
        "                    \"targsubtype1_txt\": \"targsubtype1\"})"
      ]
    },
    {
      "cell_type": "code",
      "execution_count": null,
      "metadata": {
        "id": "9vptXIn-T6Tq",
        "tags": []
      },
      "outputs": [],
      "source": [
        "categorical_cols = ['Year', \n",
        "                    'Month',\n",
        "                    'Day', \n",
        "                    # 'city',\n",
        "                    'country_txt',\n",
        "                    'region_txt',\n",
        "                    'attacktype1_txt',\n",
        "                    # 'target1',\n",
        "                    'targtype1_txt',\n",
        "                    'targsubtype1_txt',\n",
        "                    'natlty1_txt',\n",
        "                    'weaptype1_txt',\n",
        "                   ] \n",
        "\n",
        "X = pd.get_dummies(X, columns = categorical_cols)"
      ]
    },
    {
      "cell_type": "code",
      "execution_count": null,
      "metadata": {
        "colab": {
          "base_uri": "https://localhost:8080/"
        },
        "id": "po9hfJ97T6Tq",
        "outputId": "e2c4d230-7437-4def-987e-1a9d18412824"
      },
      "outputs": [
        {
          "name": "stdout",
          "output_type": "stream",
          "text": [
            "<class 'pandas.core.frame.DataFrame'>\n",
            "Int64Index: 142362 entries, 5 to 448\n",
            "Columns: 677 entries, Timestamp to weaptype1_txt_Vehicle (not to include vehicle-borne explosives, i.e., car or truck bombs)\n",
            "dtypes: float64(4), int64(5), uint8(668)\n",
            "memory usage: 101.6 MB\n"
          ]
        }
      ],
      "source": [
        "X.info()"
      ]
    },
    {
      "cell_type": "code",
      "execution_count": null,
      "metadata": {
        "id": "EgY49FpMT6Tq"
      },
      "outputs": [],
      "source": [
        "X_train, X_test, y_train, y_test = train_test_split(X, y, test_size=0.2, random_state=42)"
      ]
    },
    {
      "cell_type": "code",
      "execution_count": null,
      "metadata": {
        "colab": {
          "base_uri": "https://localhost:8080/"
        },
        "id": "5bJWleUPT6Tq",
        "outputId": "fccbf8a4-72ac-4b33-aabb-a8437b80ef44"
      },
      "outputs": [
        {
          "data": {
            "text/plain": [
              "SelectFromModel(estimator=RandomForestClassifier(n_estimators=50))"
            ]
          },
          "execution_count": 37,
          "metadata": {},
          "output_type": "execute_result"
        }
      ],
      "source": [
        "forest = RandomForestClassifier(n_estimators=50)\n",
        "sel = SelectFromModel(forest)\n",
        "sel.fit(X_train, y_train)"
      ]
    },
    {
      "cell_type": "code",
      "execution_count": null,
      "metadata": {
        "colab": {
          "base_uri": "https://localhost:8080/"
        },
        "id": "KM6ti-lFT6Tr",
        "outputId": "b80ec902-c2eb-4579-b483-6193ffa01077"
      },
      "outputs": [
        {
          "data": {
            "text/plain": [
              "['Timestamp', 'nkill', 'nwound', 'suicide', 'ishostkid']"
            ]
          },
          "execution_count": 38,
          "metadata": {},
          "output_type": "execute_result"
        }
      ],
      "source": [
        "list(X_train.columns[sel.get_support()])[:5]"
      ]
    },
    {
      "cell_type": "code",
      "execution_count": null,
      "metadata": {
        "colab": {
          "base_uri": "https://localhost:8080/"
        },
        "id": "fgv96I-lT6Tr",
        "outputId": "1bb78c5a-e22f-4289-e43c-683eeb1c9e5f"
      },
      "outputs": [
        {
          "data": {
            "text/plain": [
              "RandomForestClassifier(n_estimators=50)"
            ]
          },
          "execution_count": 39,
          "metadata": {},
          "output_type": "execute_result"
        }
      ],
      "source": [
        "forest.fit(X_train, y_train)"
      ]
    },
    {
      "cell_type": "code",
      "execution_count": null,
      "metadata": {
        "id": "giVv1KKcT6Tr"
      },
      "outputs": [],
      "source": [
        "importances = forest.feature_importances_\n",
        "forest_importances = pd.Series(importances, index=X.columns)\n",
        "importances_sorted = forest_importances.sort_values(ascending=False)"
      ]
    },
    {
      "cell_type": "code",
      "execution_count": null,
      "metadata": {
        "id": "Z88UXz5fT6Tr"
      },
      "outputs": [],
      "source": [
        "sorted_features_set = []\n",
        "for feature in importances_sorted.keys():\n",
        "    if feature.split('_')[0] not in sorted_features_set:\n",
        "        sorted_features_set.append(feature.split('_')[0])"
      ]
    },
    {
      "cell_type": "markdown",
      "metadata": {
        "id": "5k38SJxRT6Tr"
      },
      "source": [
        "The above shows the importance of the features in sorted order.\n",
        "\n",
        "We will now use the top 12 variables (nkill all the way to targsubtype1) to predict the success rate using regression.\n",
        "\n",
        "We will adjust the number a few times to see which is the best.\n",
        "\n",
        "We might also want to consider removing \"Day\", \"Month\", and \"Year\" since they might not be very relevant to us\n",
        "\n",
        "<font color='red'>*** When we did this sorting, we realised that because of the random split for train and test (we dont even use the test part) that the importance of individual features ranking might change, therefore in order to combat that, we will stick with using a few selected fields first.</font>"
      ]
    },
    {
      "cell_type": "code",
      "execution_count": null,
      "metadata": {
        "colab": {
          "base_uri": "https://localhost:8080/"
        },
        "id": "9cr4qQmCT6Tr",
        "outputId": "7b245fd6-a394-4ff3-8964-dfe3cf14bf46"
      },
      "outputs": [
        {
          "data": {
            "text/plain": [
              "['Timestamp',\n",
              " 'nkill',\n",
              " 'attacktype1',\n",
              " 'nwound',\n",
              " 'weaptype1',\n",
              " 'suicide',\n",
              " 'Month',\n",
              " 'targtype1',\n",
              " 'crit3',\n",
              " 'Year',\n",
              " 'Day',\n",
              " 'targsubtype1']"
            ]
          },
          "execution_count": 42,
          "metadata": {},
          "output_type": "execute_result"
        }
      ],
      "source": [
        "sorted_features_set[:12]"
      ]
    },
    {
      "cell_type": "markdown",
      "metadata": {
        "id": "FrgeSsMWT6Tr"
      },
      "source": [
        "Although we used the text version of the features/variables earlier, we will make use of the non-text version here (applicable for weaptype1, attacktype1, targsubtype1, targtype1) as they hold basically the same data, but in another format."
      ]
    },
    {
      "cell_type": "code",
      "execution_count": null,
      "metadata": {
        "id": "5BTAqCaHT6Tr"
      },
      "outputs": [],
      "source": [
        "df_small = df[sorted_features_set[:12] + [\"success\"]]"
      ]
    },
    {
      "cell_type": "code",
      "execution_count": null,
      "metadata": {
        "colab": {
          "base_uri": "https://localhost:8080/"
        },
        "id": "V0_hF11aT6Tr",
        "outputId": "fd750d6c-a924-499d-cba3-44336ca26fba"
      },
      "outputs": [
        {
          "data": {
            "text/plain": [
              "Timestamp           0\n",
              "nkill           10165\n",
              "attacktype1         0\n",
              "nwound          16167\n",
              "weaptype1           0\n",
              "suicide             0\n",
              "Month               0\n",
              "targtype1           0\n",
              "crit3               0\n",
              "Year                0\n",
              "Day                 0\n",
              "targsubtype1    11051\n",
              "success             1\n",
              "dtype: int64"
            ]
          },
          "execution_count": 44,
          "metadata": {},
          "output_type": "execute_result"
        }
      ],
      "source": [
        "df_small.isnull().sum()"
      ]
    },
    {
      "cell_type": "code",
      "execution_count": null,
      "metadata": {
        "colab": {
          "base_uri": "https://localhost:8080/"
        },
        "id": "G_aG3pWzT6Tr",
        "outputId": "f33daa09-4f10-479e-817d-0668ba523fa6"
      },
      "outputs": [
        {
          "name": "stderr",
          "output_type": "stream",
          "text": [
            "/usr/local/lib/python3.7/dist-packages/pandas/util/_decorators.py:311: SettingWithCopyWarning: \n",
            "A value is trying to be set on a copy of a slice from a DataFrame\n",
            "\n",
            "See the caveats in the documentation: https://pandas.pydata.org/pandas-docs/stable/user_guide/indexing.html#returning-a-view-versus-a-copy\n",
            "  return func(*args, **kwargs)\n"
          ]
        }
      ],
      "source": [
        "df_small.dropna(axis=0, inplace=True)"
      ]
    },
    {
      "cell_type": "code",
      "execution_count": null,
      "metadata": {
        "id": "LVQ9MNiNT6Ts"
      },
      "outputs": [],
      "source": [
        "df_small = df_small[df_small[\"weaptype1\"] != 13]\n",
        "df_small = df_small[df_small[\"attacktype1\"] != 9]\n",
        "df_small = df_small[df_small[\"targtype1\"] != 20]"
      ]
    },
    {
      "cell_type": "code",
      "execution_count": null,
      "metadata": {
        "colab": {
          "base_uri": "https://localhost:8080/"
        },
        "id": "KzCAcpo9T6Ts",
        "outputId": "9840d660-89ee-48c7-bf66-974df2b75170"
      },
      "outputs": [
        {
          "data": {
            "text/plain": [
              "1.0    129226\n",
              "0.0     13796\n",
              "Name: success, dtype: int64"
            ]
          },
          "execution_count": 47,
          "metadata": {},
          "output_type": "execute_result"
        }
      ],
      "source": [
        "df_small['success'].value_counts()"
      ]
    },
    {
      "cell_type": "code",
      "execution_count": null,
      "metadata": {
        "id": "MoVp7ykjT6Ts"
      },
      "outputs": [],
      "source": [
        "df_reduced = df_small[sorted_features_set[:1] + ['success']]"
      ]
    },
    {
      "cell_type": "code",
      "execution_count": null,
      "metadata": {
        "id": "VjTGRa1HT6Ts"
      },
      "outputs": [],
      "source": [
        "X = df_reduced.drop('success', axis=1)\n",
        "y = df_reduced['success']"
      ]
    },
    {
      "cell_type": "code",
      "execution_count": null,
      "metadata": {
        "id": "u_sIhutqT6Ts"
      },
      "outputs": [],
      "source": [
        "X_train, X_test, y_train, y_test = train_test_split(X, y, test_size=0.2, random_state=42)"
      ]
    },
    {
      "cell_type": "markdown",
      "metadata": {
        "id": "BsOBebqdT6Ts"
      },
      "source": [
        "## ML Model 1: RandomForestClassification"
      ]
    },
    {
      "cell_type": "code",
      "execution_count": null,
      "metadata": {
        "colab": {
          "base_uri": "https://localhost:8080/"
        },
        "id": "YIEoNvilT6Ts",
        "outputId": "6fa9dfdf-6f88-4a77-c73d-cf05800b498e"
      },
      "outputs": [
        {
          "data": {
            "text/plain": [
              "RandomForestClassifier(n_estimators=50)"
            ]
          },
          "execution_count": 51,
          "metadata": {},
          "output_type": "execute_result"
        }
      ],
      "source": [
        "forest.fit(X_train, y_train)"
      ]
    },
    {
      "cell_type": "code",
      "execution_count": null,
      "metadata": {
        "colab": {
          "base_uri": "https://localhost:8080/",
          "height": 459
        },
        "id": "H5fNHeUZT6Ts",
        "outputId": "833594fa-ecdd-4c35-9eee-febc5dd0c632"
      },
      "outputs": [
        {
          "name": "stdout",
          "output_type": "stream",
          "text": [
            "[[  117  2660]\n",
            " [  294 25534]]\n",
            "              precision    recall  f1-score   support\n",
            "\n",
            "         0.0       0.28      0.04      0.07      2777\n",
            "         1.0       0.91      0.99      0.95     25828\n",
            "\n",
            "    accuracy                           0.90     28605\n",
            "   macro avg       0.60      0.52      0.51     28605\n",
            "weighted avg       0.85      0.90      0.86     28605\n",
            "\n"
          ]
        },
        {
          "data": {
            "image/png": "[encoded data removed]",
            "text/plain": [
              "<Figure size 432x288 with 2 Axes>"
            ]
          },
          "metadata": {
            "needs_background": "light"
          },
          "output_type": "display_data"
        }
      ],
      "source": [
        "predictions = forest.predict(X_test)\n",
        "c_matrix = metrics.confusion_matrix(y_test, predictions)\n",
        "print(c_matrix)\n",
        "# sns.heatmap(c_matrix, annot=True, cmap='Blues')\n",
        "sns.heatmap(c_matrix/np.sum(c_matrix), annot=True, fmt='.2%', cmap='Blues')\n",
        "print(classification_report(y_test, predictions))"
      ]
    },
    {
      "cell_type": "code",
      "execution_count": null,
      "metadata": {
        "id": "YUFcXbfPT6Ts"
      },
      "outputs": [],
      "source": [
        "filename = 'ml_model_1_RandomForestClassification.sav'\n",
        "pickle.dump(forest, open(filename, 'wb'))"
      ]
    },
    {
      "cell_type": "markdown",
      "metadata": {
        "id": "h1FbfjiJT6Ts"
      },
      "source": [
        "## ML Model 2: LogisticRegression"
      ]
    },
    {
      "cell_type": "code",
      "execution_count": null,
      "metadata": {
        "colab": {
          "base_uri": "https://localhost:8080/"
        },
        "id": "pxrabiNjT6Ts",
        "outputId": "367fbe98-27f1-4519-a39b-10f996750b35"
      },
      "outputs": [
        {
          "data": {
            "text/plain": [
              "LogisticRegression(max_iter=400, solver='sag')"
            ]
          },
          "execution_count": 54,
          "metadata": {},
          "output_type": "execute_result"
        }
      ],
      "source": [
        "logreg = LogisticRegression(solver=\"sag\", max_iter=400)\n",
        "logreg.fit(X_train, y_train)"
      ]
    },
    {
      "cell_type": "code",
      "execution_count": null,
      "metadata": {
        "colab": {
          "base_uri": "https://localhost:8080/",
          "height": 583
        },
        "id": "5Hoqyo__T6Ts",
        "outputId": "2f9bc0b1-db15-4cd7-f31d-3448ba90aab4"
      },
      "outputs": [
        {
          "name": "stdout",
          "output_type": "stream",
          "text": [
            "[[    0  2777]\n",
            " [    0 25828]]\n",
            "              precision    recall  f1-score   support\n",
            "\n",
            "         0.0       0.00      0.00      0.00      2777\n",
            "         1.0       0.90      1.00      0.95     25828\n",
            "\n",
            "    accuracy                           0.90     28605\n",
            "   macro avg       0.45      0.50      0.47     28605\n",
            "weighted avg       0.82      0.90      0.86     28605\n",
            "\n"
          ]
        },
        {
          "name": "stderr",
          "output_type": "stream",
          "text": [
            "/usr/local/lib/python3.7/dist-packages/sklearn/metrics/_classification.py:1318: UndefinedMetricWarning: Precision and F-score are ill-defined and being set to 0.0 in labels with no predicted samples. Use `zero_division` parameter to control this behavior.\n",
            "  _warn_prf(average, modifier, msg_start, len(result))\n",
            "/usr/local/lib/python3.7/dist-packages/sklearn/metrics/_classification.py:1318: UndefinedMetricWarning: Precision and F-score are ill-defined and being set to 0.0 in labels with no predicted samples. Use `zero_division` parameter to control this behavior.\n",
            "  _warn_prf(average, modifier, msg_start, len(result))\n",
            "/usr/local/lib/python3.7/dist-packages/sklearn/metrics/_classification.py:1318: UndefinedMetricWarning: Precision and F-score are ill-defined and being set to 0.0 in labels with no predicted samples. Use `zero_division` parameter to control this behavior.\n",
            "  _warn_prf(average, modifier, msg_start, len(result))\n"
          ]
        },
        {
          "data": {
            "image/png": "[encoded data removed]",
            "text/plain": [
              "<Figure size 432x288 with 2 Axes>"
            ]
          },
          "metadata": {
            "needs_background": "light"
          },
          "output_type": "display_data"
        }
      ],
      "source": [
        "predictions = logreg.predict(X_test)\n",
        "c_matrix = metrics.confusion_matrix(y_test, predictions)\n",
        "print(c_matrix)\n",
        "# sns.heatmap(c_matrix, annot=True, cmap='Blues')\n",
        "sns.heatmap(c_matrix/np.sum(c_matrix), annot=True, fmt='.2%', cmap='Blues')\n",
        "print(classification_report(y_test, predictions))"
      ]
    },
    {
      "cell_type": "markdown",
      "metadata": {
        "id": "pV7o45D2T6Tt"
      },
      "source": [
        "Looks like the recall is quite bad for values indicated as 0 (unsuccessful attacks). It's predicting many unsuccessful attacks as successful.\n",
        "\n",
        "What about if we used less features? We will use 5 next."
      ]
    },
    {
      "cell_type": "code",
      "execution_count": null,
      "metadata": {
        "id": "WDjU-e54T6Tt"
      },
      "outputs": [],
      "source": [
        "filename = 'ml_model_2_LogReg.sav'\n",
        "pickle.dump(logreg, open(filename, 'wb'))"
      ]
    },
    {
      "cell_type": "markdown",
      "metadata": {
        "id": "CmIUIqrUT6Tt"
      },
      "source": [
        "\n",
        "<font color='blue'>Okay, not to be fooled by the score and accuracy (a stunning 0.91), when we first obtained the predictions we were a little scarred. Mainly because we kept scratching our heads at getting a model that was unable to predict 0. Delving deeper into the why, we realised that our dataset had a 10:1 ratio of success to failed outcome. Therefore the predictions probability for the 1 category was way higher than the 0 category as we can see that logreg.predict_proba(X_test) mostly gave us probabilities on the right hand side and collections.Counter(predictions) giving us all 1.</font>\n",
        "<br><br>\n",
        "<font color='blue'>\n",
        "Hence from here, we conclude that LOG REG models go according to a graph and would output values that are most likely to happen (AKA 1) therefore we obtained all 1s. Therefore, log reg model is not a good model to use for this prediction, and we will continue to find out other ways to obtain the answer to our question.</font>"
      ]
    },
    {
      "cell_type": "markdown",
      "metadata": {
        "id": "6pR7IsqUT6Tt",
        "jp-MarkdownHeadingCollapsed": true,
        "tags": []
      },
      "source": [
        "## ML Model 3: KNNClassification"
      ]
    },
    {
      "cell_type": "markdown",
      "metadata": {
        "id": "wCciw7KrT6Tt"
      },
      "source": [
        "#### Attempt 1: (2 neighbours)"
      ]
    },
    {
      "cell_type": "code",
      "execution_count": null,
      "metadata": {
        "colab": {
          "base_uri": "https://localhost:8080/"
        },
        "id": "DWPskoacT6Tt",
        "outputId": "6961ab03-f71e-45e4-cb07-dd83980310f7"
      },
      "outputs": [
        {
          "data": {
            "text/plain": [
              "KNeighborsClassifier(n_neighbors=2)"
            ]
          },
          "execution_count": 57,
          "metadata": {},
          "output_type": "execute_result"
        }
      ],
      "source": [
        "nb = KNN(n_neighbors=2)\n",
        "nb.fit(X_train, y_train)"
      ]
    },
    {
      "cell_type": "code",
      "execution_count": null,
      "metadata": {
        "colab": {
          "base_uri": "https://localhost:8080/"
        },
        "id": "TAIsaHg1T6Tt",
        "outputId": "2fe9cc7d-5d84-4a26-8467-0c6224a724ba"
      },
      "outputs": [
        {
          "name": "stdout",
          "output_type": "stream",
          "text": [
            "[[  699  2078]\n",
            " [ 4480 21348]]\n",
            "              precision    recall  f1-score   support\n",
            "\n",
            "         0.0       0.13      0.25      0.18      2777\n",
            "         1.0       0.91      0.83      0.87     25828\n",
            "\n",
            "    accuracy                           0.77     28605\n",
            "   macro avg       0.52      0.54      0.52     28605\n",
            "weighted avg       0.84      0.77      0.80     28605\n",
            "\n"
          ]
        },
        {
          "data": {
            "image/png": "[encoded data removed]",
            "text/plain": [
              "<Figure size 432x288 with 2 Axes>"
            ]
          },
          "metadata": {
            "needs_background": "light"
          },
          "output_type": "display_data"
        }
      ],
      "source": [
        "predictions = nb.predict(X_test)\n",
        "c_matrix = metrics.confusion_matrix(y_test, predictions)\n",
        "print(c_matrix)\n",
        "# sns.heatmap(c_matrix, annot=True, cmap='Blues')\n",
        "sns.heatmap(c_matrix/np.sum(c_matrix), annot=True, fmt='.2%', cmap='Blues')\n",
        "print(classification_report(y_test, predictions))"
      ]
    },
    {
      "cell_type": "markdown",
      "metadata": {
        "id": "m-EuaWpHT6Tt"
      },
      "source": [
        "Using a different model appears to have partially solved the issue of recall, and percentage of correctly predicted 0s is higher. However, the precision of both 0 and 1 values, as well as the recall of 1s has decreased. "
      ]
    },
    {
      "cell_type": "code",
      "execution_count": null,
      "metadata": {
        "id": "VkhNfzBCT6Tt"
      },
      "outputs": [],
      "source": [
        "filename = 'ml_model_3_KNN_1.sav'\n",
        "pickle.dump(nb, open(filename, 'wb'))"
      ]
    },
    {
      "cell_type": "markdown",
      "metadata": {
        "id": "GeXrT-pYT6Tt"
      },
      "source": [
        "#### Attempt 2: (7 neighbours)"
      ]
    },
    {
      "cell_type": "code",
      "execution_count": null,
      "metadata": {
        "colab": {
          "base_uri": "https://localhost:8080/"
        },
        "id": "R0myKfriT6Tt",
        "outputId": "824759a0-22aa-412b-c002-6a62e58a7d66"
      },
      "outputs": [
        {
          "data": {
            "text/plain": [
              "KNeighborsClassifier(n_neighbors=7)"
            ]
          },
          "execution_count": 60,
          "metadata": {},
          "output_type": "execute_result"
        }
      ],
      "source": [
        "nb = KNN(n_neighbors=7)\n",
        "nb.fit(X_train, y_train)"
      ]
    },
    {
      "cell_type": "code",
      "execution_count": null,
      "metadata": {
        "colab": {
          "base_uri": "https://localhost:8080/"
        },
        "id": "q0oxIBrcT6Tt",
        "outputId": "5b6bca3a-fbdb-4ece-c6b6-5b839dd35144"
      },
      "outputs": [
        {
          "name": "stdout",
          "output_type": "stream",
          "text": [
            "[[   96  2681]\n",
            " [  156 25672]]\n",
            "              precision    recall  f1-score   support\n",
            "\n",
            "         0.0       0.38      0.03      0.06      2777\n",
            "         1.0       0.91      0.99      0.95     25828\n",
            "\n",
            "    accuracy                           0.90     28605\n",
            "   macro avg       0.64      0.51      0.51     28605\n",
            "weighted avg       0.85      0.90      0.86     28605\n",
            "\n"
          ]
        },
        {
          "data": {
            "image/png": "[encoded data removed]",
            "text/plain": [
              "<Figure size 432x288 with 2 Axes>"
            ]
          },
          "metadata": {
            "needs_background": "light"
          },
          "output_type": "display_data"
        }
      ],
      "source": [
        "predictions = nb.predict(X_test)\n",
        "c_matrix = metrics.confusion_matrix(y_test, predictions)\n",
        "print(c_matrix)\n",
        "# sns.heatmap(c_matrix, annot=True, cmap='Blues')\n",
        "sns.heatmap(c_matrix/np.sum(c_matrix), annot=True, fmt='.2%', cmap='Blues')\n",
        "print(classification_report(y_test, predictions))"
      ]
    },
    {
      "cell_type": "code",
      "execution_count": null,
      "metadata": {
        "id": "lfhw3XMVT6Tu"
      },
      "outputs": [],
      "source": [
        "filename = 'ml_model_3_KNN_2.sav'\n",
        "pickle.dump(nb, open(filename, 'wb'))"
      ]
    },
    {
      "cell_type": "markdown",
      "metadata": {
        "id": "0_bVhqKCT6Tu"
      },
      "source": [
        "## ML Model 4: LinearSVCModel\n",
        "With a dash of balanced classweight. Doing a little penalization"
      ]
    },
    {
      "cell_type": "markdown",
      "metadata": {
        "id": "fyHAsd1DT6Tu"
      },
      "source": [
        "#### Attempt 1: Non-weighted"
      ]
    },
    {
      "cell_type": "code",
      "execution_count": null,
      "metadata": {
        "colab": {
          "base_uri": "https://localhost:8080/"
        },
        "id": "XLj9TakoT6Tu",
        "outputId": "74b66257-401d-44d9-a6bb-e7a8ea4f8740"
      },
      "outputs": [
        {
          "name": "stderr",
          "output_type": "stream",
          "text": [
            "/usr/local/lib/python3.7/dist-packages/sklearn/svm/_base.py:1208: ConvergenceWarning: Liblinear failed to converge, increase the number of iterations.\n",
            "  ConvergenceWarning,\n"
          ]
        },
        {
          "data": {
            "text/plain": [
              "LinearSVC()"
            ]
          },
          "execution_count": 63,
          "metadata": {},
          "output_type": "execute_result"
        }
      ],
      "source": [
        "lsvc = LinearSVC(verbose=0)\n",
        "lsvc.fit(X_train, y_train)"
      ]
    },
    {
      "cell_type": "code",
      "execution_count": null,
      "metadata": {
        "colab": {
          "base_uri": "https://localhost:8080/",
          "height": 459
        },
        "id": "CRVmn9yrT6Tu",
        "outputId": "6b4bd036-02cc-49fc-90bf-45563e6082ff"
      },
      "outputs": [
        {
          "name": "stdout",
          "output_type": "stream",
          "text": [
            "[[  424  2353]\n",
            " [ 3561 22267]]\n",
            "              precision    recall  f1-score   support\n",
            "\n",
            "         0.0       0.11      0.15      0.13      2777\n",
            "         1.0       0.90      0.86      0.88     25828\n",
            "\n",
            "    accuracy                           0.79     28605\n",
            "   macro avg       0.51      0.51      0.50     28605\n",
            "weighted avg       0.83      0.79      0.81     28605\n",
            "\n"
          ]
        },
        {
          "data": {
            "image/png": "[encoded data removed]",
            "text/plain": [
              "<Figure size 432x288 with 2 Axes>"
            ]
          },
          "metadata": {
            "needs_background": "light"
          },
          "output_type": "display_data"
        }
      ],
      "source": [
        "predictions = lsvc.predict(X_test)\n",
        "c_matrix = metrics.confusion_matrix(y_test, predictions)\n",
        "print(c_matrix)\n",
        "# sns.heatmap(c_matrix, annot=True, cmap='Blues')\n",
        "sns.heatmap(c_matrix/np.sum(c_matrix), annot=True, fmt='.2%', cmap='Blues')\n",
        "print(classification_report(y_test, predictions))"
      ]
    },
    {
      "cell_type": "code",
      "execution_count": null,
      "metadata": {
        "id": "6OC0OvqOT6Tu"
      },
      "outputs": [],
      "source": [
        "filename = 'ml_model_4_LSVC_1.sav'\n",
        "pickle.dump(lsvc, open(filename, 'wb'))"
      ]
    },
    {
      "cell_type": "markdown",
      "metadata": {
        "id": "L9fQKpyxT6Tu"
      },
      "source": [
        "#### Attempt 2: Weighted"
      ]
    },
    {
      "cell_type": "code",
      "execution_count": null,
      "metadata": {
        "colab": {
          "base_uri": "https://localhost:8080/"
        },
        "id": "ZfPw9gxsT6Tu",
        "outputId": "ee005a54-6e92-47b4-ca18-fba06380c9f2"
      },
      "outputs": [
        {
          "name": "stderr",
          "output_type": "stream",
          "text": [
            "/usr/local/lib/python3.7/dist-packages/sklearn/svm/_base.py:1208: ConvergenceWarning: Liblinear failed to converge, increase the number of iterations.\n",
            "  ConvergenceWarning,\n"
          ]
        },
        {
          "data": {
            "text/plain": [
              "LinearSVC(class_weight='balanced')"
            ]
          },
          "execution_count": 66,
          "metadata": {},
          "output_type": "execute_result"
        }
      ],
      "source": [
        "lsvc = LinearSVC(verbose=0, class_weight='balanced')\n",
        "lsvc.fit(X_train, y_train)"
      ]
    },
    {
      "cell_type": "code",
      "execution_count": null,
      "metadata": {
        "colab": {
          "base_uri": "https://localhost:8080/",
          "height": 459
        },
        "id": "AWx3vbq_T6Tu",
        "outputId": "c134f997-6576-48e1-e008-a8cad60943ab"
      },
      "outputs": [
        {
          "name": "stdout",
          "output_type": "stream",
          "text": [
            "[[  113  2664]\n",
            " [  804 25024]]\n",
            "              precision    recall  f1-score   support\n",
            "\n",
            "         0.0       0.12      0.04      0.06      2777\n",
            "         1.0       0.90      0.97      0.94     25828\n",
            "\n",
            "    accuracy                           0.88     28605\n",
            "   macro avg       0.51      0.50      0.50     28605\n",
            "weighted avg       0.83      0.88      0.85     28605\n",
            "\n"
          ]
        },
        {
          "data": {
            "image/png": "[encoded data removed]",
            "text/plain": [
              "<Figure size 432x288 with 2 Axes>"
            ]
          },
          "metadata": {
            "needs_background": "light"
          },
          "output_type": "display_data"
        }
      ],
      "source": [
        "predictions = lsvc.predict(X_test)\n",
        "c_matrix = metrics.confusion_matrix(y_test, predictions)\n",
        "print(c_matrix)\n",
        "# sns.heatmap(c_matrix, annot=True, cmap='Blues')\n",
        "sns.heatmap(c_matrix/np.sum(c_matrix), annot=True, fmt='.2%', cmap='Blues')\n",
        "print(classification_report(y_test, predictions))"
      ]
    },
    {
      "cell_type": "code",
      "execution_count": null,
      "metadata": {
        "id": "Bhu4tNuki3iZ"
      },
      "outputs": [],
      "source": [
        "filename = 'ml_model_4_LSVC_2.sav'\n",
        "pickle.dump(lsvc, open(filename, 'wb'))"
      ]
    },
    {
      "cell_type": "markdown",
      "metadata": {
        "id": "-C_IO6RtT6Tu",
        "jp-MarkdownHeadingCollapsed": true,
        "tags": []
      },
      "source": [
        "## DL Model #5: Neural Networks"
      ]
    },
    {
      "cell_type": "code",
      "execution_count": null,
      "metadata": {
        "id": "z6LvErb6VBQE"
      },
      "outputs": [],
      "source": [
        "from keras.models import Sequential\n",
        "from keras.layers import Dense"
      ]
    },
    {
      "cell_type": "code",
      "execution_count": null,
      "metadata": {
        "colab": {
          "base_uri": "https://localhost:8080/"
        },
        "id": "O5lOAxLdUKWs",
        "outputId": "6e4e7b59-553a-47a5-8c41-537167e9815b"
      },
      "outputs": [
        {
          "name": "stdout",
          "output_type": "stream",
          "text": [
            "Epoch 1/20\n",
            "7152/7152 - 11s - loss: 0.2867 - accuracy: 0.9080 - 11s/epoch - 1ms/step\n",
            "Epoch 2/20\n",
            "7152/7152 - 10s - loss: 0.2764 - accuracy: 0.9103 - 10s/epoch - 1ms/step\n",
            "Epoch 3/20\n",
            "7152/7152 - 10s - loss: 0.2735 - accuracy: 0.9106 - 10s/epoch - 1ms/step\n",
            "Epoch 4/20\n",
            "7152/7152 - 10s - loss: 0.2717 - accuracy: 0.9104 - 10s/epoch - 1ms/step\n",
            "Epoch 5/20\n",
            "7152/7152 - 10s - loss: 0.2707 - accuracy: 0.9108 - 10s/epoch - 1ms/step\n",
            "Epoch 6/20\n",
            "7152/7152 - 10s - loss: 0.2699 - accuracy: 0.9108 - 10s/epoch - 1ms/step\n",
            "Epoch 7/20\n",
            "7152/7152 - 10s - loss: 0.2694 - accuracy: 0.9108 - 10s/epoch - 1ms/step\n",
            "Epoch 8/20\n",
            "7152/7152 - 9s - loss: 0.2687 - accuracy: 0.9108 - 9s/epoch - 1ms/step\n",
            "Epoch 9/20\n",
            "7152/7152 - 10s - loss: 0.2679 - accuracy: 0.9110 - 10s/epoch - 1ms/step\n",
            "Epoch 10/20\n",
            "7152/7152 - 10s - loss: 0.2672 - accuracy: 0.9110 - 10s/epoch - 1ms/step\n",
            "Epoch 11/20\n",
            "7152/7152 - 10s - loss: 0.2665 - accuracy: 0.9111 - 10s/epoch - 1ms/step\n",
            "Epoch 12/20\n",
            "7152/7152 - 10s - loss: 0.2660 - accuracy: 0.9112 - 10s/epoch - 1ms/step\n",
            "Epoch 13/20\n",
            "7152/7152 - 10s - loss: 0.2654 - accuracy: 0.9111 - 10s/epoch - 1ms/step\n",
            "Epoch 14/20\n",
            "7152/7152 - 9s - loss: 0.2651 - accuracy: 0.9113 - 9s/epoch - 1ms/step\n",
            "Epoch 15/20\n",
            "7152/7152 - 9s - loss: 0.2647 - accuracy: 0.9113 - 9s/epoch - 1ms/step\n",
            "Epoch 16/20\n",
            "7152/7152 - 10s - loss: 0.2647 - accuracy: 0.9114 - 10s/epoch - 1ms/step\n",
            "Epoch 17/20\n",
            "7152/7152 - 10s - loss: 0.2643 - accuracy: 0.9115 - 10s/epoch - 1ms/step\n",
            "Epoch 18/20\n",
            "7152/7152 - 10s - loss: 0.2642 - accuracy: 0.9114 - 10s/epoch - 1ms/step\n",
            "Epoch 19/20\n",
            "7152/7152 - 10s - loss: 0.2637 - accuracy: 0.9114 - 10s/epoch - 1ms/step\n",
            "Epoch 20/20\n",
            "7152/7152 - 10s - loss: 0.2634 - accuracy: 0.9115 - 10s/epoch - 1ms/step\n",
            "Accuracy: 91.05\n"
          ]
        }
      ],
      "source": [
        "# define the model\n",
        "model = Sequential()\n",
        "model.add(Dense(10, input_dim=X_train.shape[1], activation='relu', kernel_initializer='he_normal'))\n",
        "model.add(Dense(1, activation='sigmoid'))\n",
        "# compile the keras model\n",
        "model.compile(loss='binary_crossentropy', optimizer='adam', metrics=['accuracy'])\n",
        "# fit the keras model on the dataset\n",
        "model.fit(X_train, y_train, epochs=20, batch_size=16, verbose=2)\n",
        "# evaluate the keras model\n",
        "_, accuracy = model.evaluate(X_test, y_test, verbose=0)\n",
        "print('Accuracy: %.2f' % (accuracy*100))"
      ]
    },
    {
      "cell_type": "code",
      "execution_count": null,
      "metadata": {
        "id": "8xPzc2PUi8VK"
      },
      "outputs": [],
      "source": [
        "filename = 'dl_model_5_NN_20.sav'\n",
        "pickle.dump(lsvc, open(filename, 'wb'))"
      ]
    },
    {
      "cell_type": "markdown",
      "metadata": {
        "id": "h4tXh5zvT6Tx",
        "jp-MarkdownHeadingCollapsed": true,
        "tags": []
      },
      "source": [
        "## Data cleaning with selected features\n",
        "\n",
        "From our feature analysis with Random Forests, we have found the top 12 variables that contribute to the dataset."
      ]
    },
    {
      "cell_type": "code",
      "execution_count": null,
      "metadata": {
        "colab": {
          "base_uri": "https://localhost:8080/"
        },
        "id": "mQ_yGSGpT6Tx",
        "outputId": "8d9d8f70-6e98-4a5c-b17e-5839ee4880f2"
      },
      "outputs": [
        {
          "data": {
            "text/plain": [
              "['Timestamp',\n",
              " 'nkill',\n",
              " 'attacktype1',\n",
              " 'nwound',\n",
              " 'weaptype1',\n",
              " 'suicide',\n",
              " 'Month',\n",
              " 'targtype1',\n",
              " 'crit3',\n",
              " 'Year',\n",
              " 'Day',\n",
              " 'targsubtype1']"
            ]
          },
          "execution_count": 70,
          "metadata": {},
          "output_type": "execute_result"
        }
      ],
      "source": [
        "sorted_features_set[:12]"
      ]
    },
    {
      "cell_type": "code",
      "execution_count": null,
      "metadata": {
        "colab": {
          "base_uri": "https://localhost:8080/"
        },
        "id": "IIh9srQ0T6Tx",
        "outputId": "ef17e51f-cba1-4a32-f789-2a791a737347"
      },
      "outputs": [
        {
          "data": {
            "text/plain": [
              "(181541, 136)"
            ]
          },
          "execution_count": 71,
          "metadata": {},
          "output_type": "execute_result"
        }
      ],
      "source": [
        "df.shape"
      ]
    },
    {
      "cell_type": "markdown",
      "metadata": {
        "id": "Mi9ccBklT6Tx"
      },
      "source": [
        "Although we used the text version of the features/variables earlier, we will make use of the non-text version here (applicable for weaptype1, attacktype1, targsubtype1, targtype1) as they hold basically the same data, but in another format."
      ]
    },
    {
      "cell_type": "code",
      "execution_count": null,
      "metadata": {
        "id": "l7WIxWWTT6Tx"
      },
      "outputs": [],
      "source": [
        "df_small = df[sorted_features_set[:12] + [\"success\"]]"
      ]
    },
    {
      "cell_type": "code",
      "execution_count": null,
      "metadata": {
        "colab": {
          "base_uri": "https://localhost:8080/"
        },
        "id": "7MpNN4jST6Tx",
        "outputId": "ad9b486c-cbcd-4cf2-d397-0be128eeb0dd"
      },
      "outputs": [
        {
          "data": {
            "text/plain": [
              "Timestamp           0\n",
              "nkill           10165\n",
              "attacktype1         0\n",
              "nwound          16167\n",
              "weaptype1           0\n",
              "suicide             0\n",
              "Month               0\n",
              "targtype1           0\n",
              "crit3               0\n",
              "Year                0\n",
              "Day                 0\n",
              "targsubtype1    11051\n",
              "success             1\n",
              "dtype: int64"
            ]
          },
          "execution_count": 73,
          "metadata": {},
          "output_type": "execute_result"
        }
      ],
      "source": [
        "df_small.isnull().sum()"
      ]
    },
    {
      "cell_type": "code",
      "execution_count": null,
      "metadata": {
        "colab": {
          "base_uri": "https://localhost:8080/"
        },
        "id": "mrtWB6ahT6Tx",
        "outputId": "7fc6cf07-e1a3-4cb7-91fc-b64817f47808"
      },
      "outputs": [
        {
          "name": "stderr",
          "output_type": "stream",
          "text": [
            "/usr/local/lib/python3.7/dist-packages/pandas/util/_decorators.py:311: SettingWithCopyWarning: \n",
            "A value is trying to be set on a copy of a slice from a DataFrame\n",
            "\n",
            "See the caveats in the documentation: https://pandas.pydata.org/pandas-docs/stable/user_guide/indexing.html#returning-a-view-versus-a-copy\n",
            "  return func(*args, **kwargs)\n"
          ]
        }
      ],
      "source": [
        "df_small.dropna(axis=0, inplace=True)"
      ]
    },
    {
      "cell_type": "code",
      "execution_count": null,
      "metadata": {
        "colab": {
          "base_uri": "https://localhost:8080/"
        },
        "id": "y9nfMOxMT6Tx",
        "outputId": "f0e06ed3-022f-48f5-da8e-a002932f70d7"
      },
      "outputs": [
        {
          "data": {
            "text/plain": [
              "Timestamp       0\n",
              "nkill           0\n",
              "attacktype1     0\n",
              "nwound          0\n",
              "weaptype1       0\n",
              "suicide         0\n",
              "Month           0\n",
              "targtype1       0\n",
              "crit3           0\n",
              "Year            0\n",
              "Day             0\n",
              "targsubtype1    0\n",
              "success         0\n",
              "dtype: int64"
            ]
          },
          "execution_count": 75,
          "metadata": {},
          "output_type": "execute_result"
        }
      ],
      "source": [
        "df_small.isnull().sum()"
      ]
    },
    {
      "cell_type": "code",
      "execution_count": null,
      "metadata": {
        "colab": {
          "base_uri": "https://localhost:8080/"
        },
        "id": "7gsjWQbxT6Ty",
        "outputId": "66805c03-8bdf-4446-bec3-15f8e623195f"
      },
      "outputs": [
        {
          "data": {
            "text/plain": [
              "6     78912\n",
              "5     50333\n",
              "13    11385\n",
              "8      9811\n",
              "9      3242\n",
              "2       292\n",
              "11      131\n",
              "10      131\n",
              "12      101\n",
              "7        33\n",
              "1        30\n",
              "3        14\n",
              "Name: weaptype1, dtype: int64"
            ]
          },
          "execution_count": 76,
          "metadata": {},
          "output_type": "execute_result"
        }
      ],
      "source": [
        "df_small['weaptype1'].value_counts() # To remove 13"
      ]
    },
    {
      "cell_type": "code",
      "execution_count": null,
      "metadata": {
        "colab": {
          "base_uri": "https://localhost:8080/"
        },
        "id": "PJcvTRyUT6Ty",
        "outputId": "96ff254e-49e6-484e-892c-aab5e87763a7"
      },
      "outputs": [
        {
          "data": {
            "text/plain": [
              "3    75082\n",
              "2    37386\n",
              "1    17157\n",
              "7     9187\n",
              "6     7458\n",
              "9     5889\n",
              "8      878\n",
              "5      819\n",
              "4      559\n",
              "Name: attacktype1, dtype: int64"
            ]
          },
          "execution_count": 77,
          "metadata": {},
          "output_type": "execute_result"
        }
      ],
      "source": [
        "df_small['attacktype1'].value_counts() # To remove 9"
      ]
    },
    {
      "cell_type": "code",
      "execution_count": null,
      "metadata": {
        "colab": {
          "base_uri": "https://localhost:8080/"
        },
        "id": "GtR5Lhs1T6Ty",
        "outputId": "e3b1df64-1b10-4fd0-8af6-d8b12acbd221"
      },
      "outputs": [
        {
          "data": {
            "text/plain": [
              "14    37915\n",
              "4     23728\n",
              "3     22808\n",
              "2     19856\n",
              "1     16374\n",
              "19     6259\n",
              "21     5274\n",
              "15     4035\n",
              "8      4023\n",
              "7      3250\n",
              "17     2574\n",
              "10     2518\n",
              "22     1747\n",
              "6      1188\n",
              "12      793\n",
              "16      780\n",
              "18      401\n",
              "9       272\n",
              "11      264\n",
              "5       251\n",
              "13      105\n",
              "Name: targtype1, dtype: int64"
            ]
          },
          "execution_count": 78,
          "metadata": {},
          "output_type": "execute_result"
        }
      ],
      "source": [
        "df_small['targtype1'].value_counts() #To remove 20 (no 20s)"
      ]
    },
    {
      "cell_type": "code",
      "execution_count": null,
      "metadata": {
        "id": "tBHgwoqGT6Ty"
      },
      "outputs": [],
      "source": [
        "df_small = df_small[df_small[\"weaptype1\"] != 13]\n",
        "df_small = df_small[df_small[\"attacktype1\"] != 9]\n",
        "df_small = df_small[df_small[\"targtype1\"] != 20]"
      ]
    },
    {
      "cell_type": "code",
      "execution_count": null,
      "metadata": {
        "colab": {
          "base_uri": "https://localhost:8080/"
        },
        "id": "TYh9_5yPT6Ty",
        "outputId": "32de5a7a-77e0-403d-9d7f-f7c6a5fd3e4d"
      },
      "outputs": [
        {
          "data": {
            "text/plain": [
              "(143022, 13)"
            ]
          },
          "execution_count": 80,
          "metadata": {},
          "output_type": "execute_result"
        }
      ],
      "source": [
        "df_small.shape"
      ]
    },
    {
      "cell_type": "markdown",
      "metadata": {
        "id": "ZTOCclfiT6Ty"
      },
      "source": [
        "Tbh the number of points is not changed much - earlier its 142362 compared to now 143022. Doesn't really make much of a difference."
      ]
    },
    {
      "cell_type": "code",
      "execution_count": null,
      "metadata": {
        "colab": {
          "base_uri": "https://localhost:8080/"
        },
        "id": "Ju4bLCZZT6Ty",
        "outputId": "c1c57c65-9343-4a0a-8544-cc19e66bbe6b"
      },
      "outputs": [
        {
          "data": {
            "text/plain": [
              "1.0    129226\n",
              "0.0     13796\n",
              "Name: success, dtype: int64"
            ]
          },
          "execution_count": 81,
          "metadata": {},
          "output_type": "execute_result"
        }
      ],
      "source": [
        "df_small['success'].value_counts()"
      ]
    },
    {
      "cell_type": "markdown",
      "metadata": {
        "id": "o_LUQOAMT6Ty"
      },
      "source": [
        "### Weighted logistic regression with increasing number of features"
      ]
    },
    {
      "cell_type": "code",
      "execution_count": null,
      "metadata": {
        "id": "-3CU4-HXT6Ty"
      },
      "outputs": [],
      "source": [
        "weights = {0: 89, 1: 11}"
      ]
    },
    {
      "cell_type": "code",
      "execution_count": null,
      "metadata": {
        "colab": {
          "base_uri": "https://localhost:8080/",
          "height": 166
        },
        "id": "0cszZxm2T6Ty",
        "outputId": "27d1b122-f10c-444d-8754-1dcbcb34d26e"
      },
      "outputs": [
        {
          "ename": "NameError",
          "evalue": "ignored",
          "output_type": "error",
          "traceback": [
            "\u001b[0;31m---------------------------------------------------------------------------\u001b[0m",
            "\u001b[0;31mNameError\u001b[0m                                 Traceback (most recent call last)",
            "\u001b[0;32m<ipython-input-2-a80ebb6b3ba0>\u001b[0m in \u001b[0;36m<module>\u001b[0;34m()\u001b[0m\n\u001b[0;32m----> 1\u001b[0;31m \u001b[0mwlogreg\u001b[0m \u001b[0;34m=\u001b[0m \u001b[0mLogisticRegression\u001b[0m\u001b[0;34m(\u001b[0m\u001b[0mclass_weight\u001b[0m\u001b[0;34m=\u001b[0m\u001b[0;34m'balanced'\u001b[0m\u001b[0;34m,\u001b[0m \u001b[0msolver\u001b[0m\u001b[0;34m=\u001b[0m\u001b[0;34m\"lbfgs\"\u001b[0m\u001b[0;34m,\u001b[0m \u001b[0mmax_iter\u001b[0m\u001b[0;34m=\u001b[0m\u001b[0;36m1000\u001b[0m\u001b[0;34m)\u001b[0m\u001b[0;34m\u001b[0m\u001b[0;34m\u001b[0m\u001b[0m\n\u001b[0m",
            "\u001b[0;31mNameError\u001b[0m: name 'LogisticRegression' is not defined"
          ]
        }
      ],
      "source": [
        "wlogreg = LogisticRegression(class_weight='balanced', solver=\"lbfgs\", max_iter=1000)"
      ]
    },
    {
      "cell_type": "code",
      "execution_count": null,
      "metadata": {
        "id": "kuSoUYA5T6Ty"
      },
      "outputs": [],
      "source": [
        "df_reduced = df_small[sorted_features_set[:1] + ['success']]"
      ]
    },
    {
      "cell_type": "code",
      "execution_count": null,
      "metadata": {
        "id": "fzse2OYST6Ty"
      },
      "outputs": [],
      "source": [
        "X = df_reduced.drop('success', axis=1)\n",
        "y = df_reduced['success']"
      ]
    },
    {
      "cell_type": "code",
      "execution_count": null,
      "metadata": {
        "id": "TU-lRfPmT6Ty"
      },
      "outputs": [],
      "source": [
        "X_train, X_test, y_train, y_test = train_test_split(X, y, test_size=0.2, random_state=42)"
      ]
    },
    {
      "cell_type": "code",
      "execution_count": null,
      "metadata": {
        "id": "ecZfZvH7T6Ty"
      },
      "outputs": [],
      "source": [
        "wlogreg.fit(X_train, y_train)"
      ]
    },
    {
      "cell_type": "code",
      "execution_count": null,
      "metadata": {
        "id": "7sk3h31gT6Ty"
      },
      "outputs": [],
      "source": [
        "predictions = wlogreg.predict(X_test)"
      ]
    },
    {
      "cell_type": "code",
      "execution_count": null,
      "metadata": {
        "id": "fiAEODaKT6Ty"
      },
      "outputs": [],
      "source": [
        "c_matrix = confusion_matrix(y_test, predictions)\n",
        "print(c_matrix)"
      ]
    },
    {
      "cell_type": "code",
      "execution_count": null,
      "metadata": {
        "id": "L5DfQE64T6Ty"
      },
      "outputs": [],
      "source": [
        "sns.heatmap(c_matrix/np.sum(c_matrix), annot=True, \n",
        "            fmt='.2%', cmap='Blues')"
      ]
    },
    {
      "cell_type": "code",
      "execution_count": null,
      "metadata": {
        "id": "IYUisac2T6Ty"
      },
      "outputs": [],
      "source": [
        "print(classification_report(y_test, predictions))"
      ]
    },
    {
      "cell_type": "code",
      "execution_count": null,
      "metadata": {
        "id": "KW8TkWzOT6Ty"
      },
      "outputs": [],
      "source": [
        "# With 2"
      ]
    },
    {
      "cell_type": "code",
      "execution_count": null,
      "metadata": {
        "id": "JnpRdVIAT6Tz"
      },
      "outputs": [],
      "source": [
        "weights = {0: 89, 1: 11}"
      ]
    },
    {
      "cell_type": "code",
      "execution_count": null,
      "metadata": {
        "id": "NpbaU8JYT6Tz"
      },
      "outputs": [],
      "source": [
        "wlogreg = LogisticRegression(class_weight='balanced', solver=\"lbfgs\", max_iter=1000)"
      ]
    },
    {
      "cell_type": "code",
      "execution_count": null,
      "metadata": {
        "id": "mLslmhvRT6Tz"
      },
      "outputs": [],
      "source": [
        "df_reduced = df_small[sorted_features_set[:2] + ['success']]"
      ]
    },
    {
      "cell_type": "code",
      "execution_count": null,
      "metadata": {
        "id": "iZTTXelGT6Tz"
      },
      "outputs": [],
      "source": [
        "X = df_reduced.drop('success', axis=1)\n",
        "y = df_reduced['success']"
      ]
    },
    {
      "cell_type": "code",
      "execution_count": null,
      "metadata": {
        "id": "s9oHQfqIT6Tz"
      },
      "outputs": [],
      "source": [
        "X_train, X_test, y_train, y_test = train_test_split(X, y, test_size=0.2, random_state=42)"
      ]
    },
    {
      "cell_type": "code",
      "execution_count": null,
      "metadata": {
        "id": "9UMKN0BaT6Tz"
      },
      "outputs": [],
      "source": [
        "wlogreg.fit(X_train, y_train)"
      ]
    },
    {
      "cell_type": "code",
      "execution_count": null,
      "metadata": {
        "id": "ejqKY1zWT6Tz"
      },
      "outputs": [],
      "source": [
        "predictions = wlogreg.predict(X_test)"
      ]
    },
    {
      "cell_type": "code",
      "execution_count": null,
      "metadata": {
        "id": "TZid3fJaT6Tz"
      },
      "outputs": [],
      "source": [
        "c_matrix = confusion_matrix(y_test, predictions)\n",
        "print(c_matrix)"
      ]
    },
    {
      "cell_type": "code",
      "execution_count": null,
      "metadata": {
        "id": "lVtpxTkvT6Tz"
      },
      "outputs": [],
      "source": [
        "sns.heatmap(c_matrix/np.sum(c_matrix), annot=True, \n",
        "            fmt='.2%', cmap='Blues')"
      ]
    },
    {
      "cell_type": "code",
      "execution_count": null,
      "metadata": {
        "id": "0DJNnipgT6Tz"
      },
      "outputs": [],
      "source": [
        "print(classification_report(y_test, predictions))"
      ]
    },
    {
      "cell_type": "code",
      "execution_count": null,
      "metadata": {
        "id": "ZqORWPR-T6Tz"
      },
      "outputs": [],
      "source": []
    },
    {
      "cell_type": "code",
      "execution_count": null,
      "metadata": {
        "id": "Zu4QIOpeT6Tz"
      },
      "outputs": [],
      "source": [
        "# With 3"
      ]
    },
    {
      "cell_type": "code",
      "execution_count": null,
      "metadata": {
        "id": "ReC1bv8yT6Tz"
      },
      "outputs": [],
      "source": [
        "weights = {0: 85, 1: 15}"
      ]
    },
    {
      "cell_type": "code",
      "execution_count": null,
      "metadata": {
        "id": "23lid3HCT6Tz"
      },
      "outputs": [],
      "source": [
        "wlogreg = LogisticRegression(class_weight='balanced', solver=\"lbfgs\", max_iter=1000)"
      ]
    },
    {
      "cell_type": "code",
      "execution_count": null,
      "metadata": {
        "id": "km1jhAxQT6Tz"
      },
      "outputs": [],
      "source": [
        "df_reduced = df_small[sorted_features_set[:3] + ['success']]"
      ]
    },
    {
      "cell_type": "code",
      "execution_count": null,
      "metadata": {
        "id": "T5SwHGd6T6Tz"
      },
      "outputs": [],
      "source": [
        "reduced_columns = [\n",
        "    # 'Month',\n",
        "    # 'weaptype1',\n",
        "    # 'Year',\n",
        "    # 'targtype1',\n",
        "    # 'Day',\n",
        "    # 'targsubtype1',\n",
        "    'attacktype1',\n",
        "    # 'region',\n",
        "    # 'natlty1',\n",
        "    # 'country'\n",
        "]"
      ]
    },
    {
      "cell_type": "code",
      "execution_count": null,
      "metadata": {
        "id": "ho3NeuiET6Tz"
      },
      "outputs": [],
      "source": [
        "df_reduced = pd.get_dummies(df_reduced, columns=reduced_columns)"
      ]
    },
    {
      "cell_type": "code",
      "execution_count": null,
      "metadata": {
        "id": "N_jfHcGGT6Tz"
      },
      "outputs": [],
      "source": [
        "X = df_reduced.drop('success', axis=1)\n",
        "y = df_reduced['success']"
      ]
    },
    {
      "cell_type": "code",
      "execution_count": null,
      "metadata": {
        "id": "r2_6B5ayT6Tz"
      },
      "outputs": [],
      "source": [
        "X_train, X_test, y_train, y_test = train_test_split(X, y, test_size=0.2, random_state=42)"
      ]
    },
    {
      "cell_type": "code",
      "execution_count": null,
      "metadata": {
        "id": "OV1UZfNxT6Tz"
      },
      "outputs": [],
      "source": [
        "wlogreg.fit(X_train, y_train)"
      ]
    },
    {
      "cell_type": "code",
      "execution_count": null,
      "metadata": {
        "id": "MjvG7vxiT6Tz"
      },
      "outputs": [],
      "source": [
        "predictions = wlogreg.predict(X_test)"
      ]
    },
    {
      "cell_type": "code",
      "execution_count": null,
      "metadata": {
        "id": "Ibq997tqT6T0"
      },
      "outputs": [],
      "source": [
        "c_matrix = confusion_matrix(y_test, predictions)\n",
        "print(c_matrix)"
      ]
    },
    {
      "cell_type": "code",
      "execution_count": null,
      "metadata": {
        "id": "BlPMmFXmT6T0"
      },
      "outputs": [],
      "source": [
        "sns.heatmap(c_matrix/np.sum(c_matrix), annot=True, \n",
        "            fmt='.2%', cmap='Blues')"
      ]
    },
    {
      "cell_type": "code",
      "execution_count": null,
      "metadata": {
        "id": "Sf696yycT6T0"
      },
      "outputs": [],
      "source": [
        "print(classification_report(y_test, predictions))"
      ]
    },
    {
      "cell_type": "code",
      "execution_count": null,
      "metadata": {
        "id": "X8SasUR8T6T0"
      },
      "outputs": [],
      "source": []
    },
    {
      "cell_type": "code",
      "execution_count": null,
      "metadata": {
        "id": "-LJj1lksT6T0"
      },
      "outputs": [],
      "source": [
        "# With 4"
      ]
    },
    {
      "cell_type": "code",
      "execution_count": null,
      "metadata": {
        "id": "byZs-xN_T6T0"
      },
      "outputs": [],
      "source": [
        "weights = {0: 85, 1: 15}"
      ]
    },
    {
      "cell_type": "code",
      "execution_count": null,
      "metadata": {
        "id": "JpSO7AicT6T0"
      },
      "outputs": [],
      "source": [
        "wlogreg = LogisticRegression(class_weight='balanced', solver=\"lbfgs\", max_iter=1000)"
      ]
    },
    {
      "cell_type": "code",
      "execution_count": null,
      "metadata": {
        "id": "AXpyachwT6T0"
      },
      "outputs": [],
      "source": [
        "df_reduced = df_small[sorted_features_set[:4] + ['success']]"
      ]
    },
    {
      "cell_type": "code",
      "execution_count": null,
      "metadata": {
        "id": "Z-I0plN_T6T0"
      },
      "outputs": [],
      "source": [
        "reduced_columns = [\n",
        "    # 'Month',\n",
        "    # 'weaptype1',\n",
        "    # 'Year',\n",
        "    # 'targtype1',\n",
        "    # 'Day',\n",
        "    # 'targsubtype1',\n",
        "    'attacktype1',\n",
        "    # 'region',\n",
        "    # 'natlty1',\n",
        "    # 'country'\n",
        "]"
      ]
    },
    {
      "cell_type": "code",
      "execution_count": null,
      "metadata": {
        "id": "RQeOeABRT6T0"
      },
      "outputs": [],
      "source": [
        "df_reduced = pd.get_dummies(df_reduced, columns=reduced_columns)"
      ]
    },
    {
      "cell_type": "code",
      "execution_count": null,
      "metadata": {
        "id": "JXi0IXxjT6T0"
      },
      "outputs": [],
      "source": [
        "X = df_reduced.drop('success', axis=1)\n",
        "y = df_reduced['success']"
      ]
    },
    {
      "cell_type": "code",
      "execution_count": null,
      "metadata": {
        "id": "dLRvWrmLT6T0"
      },
      "outputs": [],
      "source": [
        "X_train, X_test, y_train, y_test = train_test_split(X, y, test_size=0.2, random_state=42)"
      ]
    },
    {
      "cell_type": "code",
      "execution_count": null,
      "metadata": {
        "id": "60HAJlu3T6T0"
      },
      "outputs": [],
      "source": [
        "wlogreg.fit(X_train, y_train)"
      ]
    },
    {
      "cell_type": "code",
      "execution_count": null,
      "metadata": {
        "id": "71eqlBpNT6T0"
      },
      "outputs": [],
      "source": [
        "predictions = wlogreg.predict(X_test)"
      ]
    },
    {
      "cell_type": "code",
      "execution_count": null,
      "metadata": {
        "id": "99nf6ou9T6T0"
      },
      "outputs": [],
      "source": [
        "c_matrix = confusion_matrix(y_test, predictions)\n",
        "print(c_matrix)"
      ]
    },
    {
      "cell_type": "code",
      "execution_count": null,
      "metadata": {
        "id": "-Rz6jePkT6T0"
      },
      "outputs": [],
      "source": [
        "sns.heatmap(c_matrix/np.sum(c_matrix), annot=True, \n",
        "            fmt='.2%', cmap='Blues')"
      ]
    },
    {
      "cell_type": "code",
      "execution_count": null,
      "metadata": {
        "id": "d839kDlyT6T0"
      },
      "outputs": [],
      "source": [
        "print(classification_report(y_test, predictions))"
      ]
    },
    {
      "cell_type": "code",
      "execution_count": null,
      "metadata": {
        "id": "Cxg41sPbT6T0"
      },
      "outputs": [],
      "source": [
        "weights = {0: 85, 1: 15}"
      ]
    },
    {
      "cell_type": "code",
      "execution_count": null,
      "metadata": {
        "id": "Z3sQLlFlT6T0"
      },
      "outputs": [],
      "source": [
        "wlogreg = LogisticRegression(class_weight='balanced', solver=\"lbfgs\", max_iter=1000)"
      ]
    },
    {
      "cell_type": "code",
      "execution_count": null,
      "metadata": {
        "id": "AAAYg3MWT6T0"
      },
      "outputs": [],
      "source": [
        "df_reduced = df_small[sorted_features_set[:5] + ['success']]"
      ]
    },
    {
      "cell_type": "code",
      "execution_count": null,
      "metadata": {
        "id": "bb0gQlfET6T1"
      },
      "outputs": [],
      "source": [
        "reduced_columns = [\n",
        "    # 'Month',\n",
        "    'weaptype1',\n",
        "    # 'Year',\n",
        "    # 'targtype1',\n",
        "    # 'Day',\n",
        "    # 'targsubtype1',\n",
        "    'attacktype1',\n",
        "    # 'region',\n",
        "    # 'natlty1',\n",
        "    # 'country'\n",
        "]"
      ]
    },
    {
      "cell_type": "code",
      "execution_count": null,
      "metadata": {
        "id": "CyTthwvgT6T1"
      },
      "outputs": [],
      "source": [
        "df_reduced = pd.get_dummies(df_reduced, columns=reduced_columns)"
      ]
    },
    {
      "cell_type": "code",
      "execution_count": null,
      "metadata": {
        "id": "E557c6RXT6T1"
      },
      "outputs": [],
      "source": [
        "X = df_reduced.drop('success', axis=1)\n",
        "y = df_reduced['success']"
      ]
    },
    {
      "cell_type": "code",
      "execution_count": null,
      "metadata": {
        "id": "EECNklJrT6T1"
      },
      "outputs": [],
      "source": [
        "X_train, X_test, y_train, y_test = train_test_split(X, y, test_size=0.2, random_state=42)"
      ]
    },
    {
      "cell_type": "code",
      "execution_count": null,
      "metadata": {
        "id": "KVe2r3mKT6T1"
      },
      "outputs": [],
      "source": [
        "wlogreg.fit(X_train, y_train)"
      ]
    },
    {
      "cell_type": "code",
      "execution_count": null,
      "metadata": {
        "id": "ToBTpfjZT6T1"
      },
      "outputs": [],
      "source": [
        "predictions = wlogreg.predict(X_test)"
      ]
    },
    {
      "cell_type": "code",
      "execution_count": null,
      "metadata": {
        "id": "N9szxN98T6T1"
      },
      "outputs": [],
      "source": [
        "c_matrix = confusion_matrix(y_test, predictions)\n",
        "print(c_matrix)"
      ]
    },
    {
      "cell_type": "code",
      "execution_count": null,
      "metadata": {
        "id": "D79ZanyTT6T1"
      },
      "outputs": [],
      "source": [
        "sns.heatmap(c_matrix/np.sum(c_matrix), annot=True, \n",
        "            fmt='.2%', cmap='Blues')"
      ]
    },
    {
      "cell_type": "code",
      "execution_count": null,
      "metadata": {
        "id": "442gJyXwT6T1"
      },
      "outputs": [],
      "source": [
        "print(classification_report(y_test, predictions))"
      ]
    },
    {
      "cell_type": "code",
      "execution_count": null,
      "metadata": {
        "id": "BkGfd3_JT6T1"
      },
      "outputs": [],
      "source": []
    },
    {
      "cell_type": "code",
      "execution_count": null,
      "metadata": {
        "id": "_LbOZ_QQT6T1"
      },
      "outputs": [],
      "source": [
        "# What if we just use categorical data?"
      ]
    },
    {
      "cell_type": "code",
      "execution_count": null,
      "metadata": {
        "id": "ZeILiPIWT6T1"
      },
      "outputs": [],
      "source": [
        "reduced_columns = [\n",
        "    'Month',\n",
        "    'weaptype1',\n",
        "    'Year',\n",
        "    'targtype1',\n",
        "    'Day',\n",
        "    'targsubtype1',\n",
        "    'attacktype1',\n",
        "]"
      ]
    },
    {
      "cell_type": "code",
      "execution_count": null,
      "metadata": {
        "id": "BaARmX0RT6T1"
      },
      "outputs": [],
      "source": [
        "weights = {0: 80, 1: 20}"
      ]
    },
    {
      "cell_type": "code",
      "execution_count": null,
      "metadata": {
        "id": "qrSG5s4FT6T1"
      },
      "outputs": [],
      "source": [
        "wlogreg = LogisticRegression(class_weight='balanced', solver=\"lbfgs\", max_iter=1000)"
      ]
    },
    {
      "cell_type": "code",
      "execution_count": null,
      "metadata": {
        "id": "X1YMWqaKT6T2"
      },
      "outputs": [],
      "source": [
        "df_reduced = df_small[reduced_columns + ['success']]"
      ]
    },
    {
      "cell_type": "code",
      "execution_count": null,
      "metadata": {
        "id": "8Yp6cyY6T6T2"
      },
      "outputs": [],
      "source": [
        "df_reduced = pd.get_dummies(df_reduced, columns=reduced_columns)"
      ]
    },
    {
      "cell_type": "code",
      "execution_count": null,
      "metadata": {
        "id": "l6oU6aZwT6T2"
      },
      "outputs": [],
      "source": [
        "X = df_reduced.drop('success', axis=1)\n",
        "y = df_reduced['success']"
      ]
    },
    {
      "cell_type": "code",
      "execution_count": null,
      "metadata": {
        "id": "3KPEs8rOT6T2"
      },
      "outputs": [],
      "source": [
        "X_train, X_test, y_train, y_test = train_test_split(X, y, test_size=0.2, random_state=42)"
      ]
    },
    {
      "cell_type": "code",
      "execution_count": null,
      "metadata": {
        "id": "TtRGq0HcT6T2"
      },
      "outputs": [],
      "source": [
        "wlogreg.fit(X_train, y_train)"
      ]
    },
    {
      "cell_type": "code",
      "execution_count": null,
      "metadata": {
        "id": "XHvIM_hjT6T2"
      },
      "outputs": [],
      "source": [
        "predictions = wlogreg.predict(X_test)"
      ]
    },
    {
      "cell_type": "code",
      "execution_count": null,
      "metadata": {
        "id": "yVPAtw2ZT6T2"
      },
      "outputs": [],
      "source": [
        "c_matrix = confusion_matrix(y_test, predictions)\n",
        "print(c_matrix)"
      ]
    },
    {
      "cell_type": "code",
      "execution_count": null,
      "metadata": {
        "id": "NhgiFZ4ZT6T2"
      },
      "outputs": [],
      "source": [
        "sns.heatmap(c_matrix/np.sum(c_matrix), annot=True, \n",
        "            fmt='.2%', cmap='Blues')"
      ]
    },
    {
      "cell_type": "code",
      "execution_count": null,
      "metadata": {
        "id": "0cDdbfF6T6T2"
      },
      "outputs": [],
      "source": [
        "print(classification_report(y_test, predictions))"
      ]
    },
    {
      "cell_type": "code",
      "execution_count": null,
      "metadata": {
        "id": "ItydXdiDT6T2"
      },
      "outputs": [],
      "source": []
    }
  ],
  "metadata": {
    "celltoolbar": "Slideshow",
    "colab": {
      "name": "What determines a successful terrorist attack?.ipynb",
      "provenance": [],
      "toc_visible": true
    },
    "kernelspec": {
      "display_name": "Python 3 (ipykernel)",
      "language": "python",
      "name": "python3"
    },
    "language_info": {
      "codemirror_mode": {
        "name": "ipython",
        "version": 3
      },
      "file_extension": ".py",
      "mimetype": "text/x-python",
      "name": "python",
      "nbconvert_exporter": "python",
      "pygments_lexer": "ipython3",
      "version": "3.9.7"
    }
  },
  "nbformat": 4,
  "nbformat_minor": 0
}
